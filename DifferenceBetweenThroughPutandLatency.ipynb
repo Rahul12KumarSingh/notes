{
 "cells": [
  {
   "cell_type": "markdown",
   "metadata": {},
   "source": [
    "### **Difference Between Latency and Throughput**  \n",
    "\n",
    "**Latency** refers to the amount of time taken by a system to respond to a request. It is generally measured in **milliseconds (ms) or microseconds (µs)**.  \n",
    "\n",
    "**Latency depends on various factors:**  \n",
    "1. Network conditions  \n",
    "2. Network congestion  \n",
    "3. Inefficient algorithms  \n",
    "4. Load on system resources  \n",
    "\n",
    "**Throughput** refers to the number of requests a system can handle **simultaneously**. It is generally measured in **requests per second (RPS), transactions per second (TPS), or bits per second (bps)**.  \n",
    "\n",
    "**Throughput depends on various factors:**  \n",
    "1. Available bandwidth  \n",
    "2. CPU capacity  \n",
    "3. Memory capacity  \n",
    "\n",
    "---\n",
    "\n",
    "### **Tradeoff Between Latency and Throughput**  \n",
    "\n",
    "1. One way to increase **throughput** is by **adding more servers** to the system. However, this can **increase latency**, as requests need to be routed to different servers and data must be replicated across them.  \n",
    "\n",
    "2. Another way to improve **throughput** is by **optimizing server software** to handle more requests simultaneously. However, this can also **increase latency**, as the server may need to allocate additional resources to keep up with the increased demand.  \n",
    "\n",
    "Hence, there is a **tradeoff between latency and throughput**. We must find the right balance between **low latency** and **high throughput** to optimize system performance.  \n"
   ]
  },
  {
   "cell_type": "markdown",
   "metadata": {},
   "source": []
  },
  {
   "cell_type": "markdown",
   "metadata": {},
   "source": []
  }
 ],
 "metadata": {
  "kernelspec": {
   "display_name": "Python 3",
   "language": "python",
   "name": "python3"
  },
  "language_info": {
   "name": "python",
   "version": "3.10.16"
  }
 },
 "nbformat": 4,
 "nbformat_minor": 2
}
