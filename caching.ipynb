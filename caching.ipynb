{
 "cells": [
  {
   "cell_type": "markdown",
   "id": "1435b220",
   "metadata": {},
   "source": [
    "# Different Methods to Update the Cache Data"
   ]
  },
  {
   "cell_type": "markdown",
   "id": "a1fccf5e",
   "metadata": {},
   "source": [
    "\n",
    "## 1. Cache-aside\n",
    "\n",
    "![Cache Aside](attachment:cache_aside.png)\n",
    "\n",
    "The application is responsible for reading and writing from storage. The cache does not interact with storage directly. The application does the following:\n",
    "\n",
    "1. Look for an entry in the cache, resulting in a cache miss.\n",
    "2. Load the entry from the database.\n",
    "3. Add the entry to the cache.\n",
    "4. Return the entry.\n"
   ]
  },
  {
   "cell_type": "code",
   "execution_count": null,
   "id": "f62b2cb1",
   "metadata": {},
   "outputs": [],
   "source": [
    "\n",
    "def get_user(self, user_id):\n",
    "    user = cache.get(\"user.{0}\".format(user_id))\n",
    "    if user is None:\n",
    "        user = db.query(\"SELECT * FROM users WHERE user_id = {0}\".format(user_id))\n",
    "        if user is not None:\n",
    "            key = \"user.{0}\".format(user_id)\n",
    "            cache.set(key, json.dumps(user))\n",
    "    return user\n"
   ]
  },
  {
   "cell_type": "markdown",
   "id": "86cd6ad2",
   "metadata": {},
   "source": [
    "\n",
    "## 2. Write-through\n",
    "\n",
    "![Write Through](attachment:cachetrough.png)\n",
    "\n",
    "The application uses the cache as the main data store, reading and writing data to it, while the cache is responsible for reading and writing to the database.\n",
    "\n",
    "1. The application adds/updates an entry in the cache.\n",
    "2. The cache synchronously writes the entry to the data store.\n",
    "3. Return.\n"
   ]
  },
  {
   "cell_type": "code",
   "execution_count": null,
   "id": "48376fe9",
   "metadata": {},
   "outputs": [],
   "source": [
    "\n",
    "# Application\n",
    "set_user(12345, {\"foo\": \"bar\"})\n",
    "\n",
    "# Cache\n",
    "def set_user(user_id, values):\n",
    "    user = db.query(\"UPDATE Users SET values = {0} WHERE id = {1}\".format(values, user_id))\n",
    "    cache.set(user_id, user)\n"
   ]
  },
  {
   "cell_type": "markdown",
   "id": "2e270219",
   "metadata": {},
   "source": [
    "\n",
    "## 3. Write-behind\n",
    "\n",
    "![Write Behind](attachment:writebehind.png)\n",
    "\n",
    "In the write-behind strategy, the application does the following:\n",
    "\n",
    "- Adds/updates an entry in the cache.\n",
    "- Asynchronously writes the entry to the data store, improving write performance.\n"
   ]
  },
  {
   "cell_type": "markdown",
   "id": "1bdd9ee4",
   "metadata": {},
   "source": [
    "\n",
    "## 4. Refresh-ahead\n",
    "\n",
    "![Refresh Ahead](attachment:refresh_ahead.png)\n",
    "\n",
    "A **Refresh-Ahead Cache** proactively refreshes cached data before it expires. Instead of waiting for a request to trigger data fetching (which may cause delays if the data has expired), the cache preemptively updates itself in the background.\n",
    "\n",
    "### How it works:\n",
    "1. A user requests data from the cache.\n",
    "2. If the data is available and fresh, it is served immediately.\n",
    "3. If the cache detects that the data is about to expire, it fetches and refreshes it before expiration.\n",
    "4. This ensures that when the next request comes, fresh data is already in the cache, reducing latency.\n"
   ]
  },
  {
   "cell_type": "markdown",
   "id": "6e4b5137",
   "metadata": {},
   "source": [
    "# Different Types of Caching"
   ]
  },
  {
   "cell_type": "markdown",
   "id": "eb370c96",
   "metadata": {},
   "source": [
    "\n",
    "## 1. Client Caching\n",
    "\n",
    "Client-side caching refers to storing frequently accessed data on the client’s device rather than the server. This helps improve application performance by reducing the number of requests sent to the server.\n",
    "\n",
    "### Example:\n",
    "- **Web Browser Caching**\n",
    "\n",
    "### Advantages:\n",
    "- ✅ Reduces server load.\n",
    "- ✅ Faster page load times.\n",
    "- ✅ Reduces network traffic.\n",
    "\n",
    "### Drawbacks:\n",
    "- ❌ Potential for stale data if not properly managed.\n",
    "- ❌ Consumes memory or disk space on the client’s device.\n"
   ]
  },
  {
   "cell_type": "markdown",
   "id": "25572d7c",
   "metadata": {},
   "source": [
    "\n",
    "## 2. CDN Caching\n",
    "\n",
    "Content Delivery Network (CDN) caching is a **distributed network of servers** placed in various locations worldwide. Its main purpose is to serve content to end-users **with high availability and performance** by caching frequently accessed content on nearby servers.\n",
    "\n",
    "### How it works:\n",
    "1. A user requests content from a website using a CDN.\n",
    "2. The CDN checks if the requested content is available in a nearby server's cache.\n",
    "3. If found, the cached content is served from the nearby server.\n",
    "4. If not found, the content is retrieved from the origin server, then cached for future requests.\n",
    "\n",
    "### Benefits:\n",
    "- ✅ Reduces the distance data needs to travel.\n",
    "- ✅ Decreases the load on the origin server.\n",
    "- ✅ Enables faster content delivery.\n"
   ]
  },
  {
   "cell_type": "markdown",
   "id": "52313dce",
   "metadata": {},
   "source": [
    "\n",
    "## 3. Web Server Caching\n",
    "\n",
    "A **reverse proxy** can serve both **static and dynamic content** directly, reducing the need for requests to reach the **application or database layer**.\n"
   ]
  },
  {
   "cell_type": "markdown",
   "id": "bf06462e",
   "metadata": {},
   "source": [
    "\n",
    "## 4. Database Caching\n",
    "\n",
    "Most databases include **built-in caching mechanisms** in their default configuration. However, optimizing these settings for **specific use cases** can significantly boost performance.\n"
   ]
  },
  {
   "cell_type": "markdown",
   "id": "9d4ac1b2",
   "metadata": {},
   "source": [
    "\n",
    "## 5. Application Caching\n",
    "\n",
    "In-memory caches such as **Memcached** and **Redis** act as **key-value stores** between the application and the data storage. Since the data is stored **in RAM**, it is much faster than traditional databases that store data on disk.\n",
    "\n",
    "### Redis Features:\n",
    "- **Persistence options** (ability to store data beyond memory).\n",
    "- **Built-in data structures** (e.g., sorted sets, lists).\n",
    "\n",
    "### Different Caching Levels in Applications:\n",
    "1. **Row-level caching**.\n",
    "2. **Query-level caching**.\n",
    "3. **Fully-formed serializable objects**.\n",
    "4. **Fully-rendered HTML caching**.\n",
    "\n",
    "⚠ **Avoid file-based caching** whenever possible, as it complicates **cloning and auto-scaling**.\n"
   ]
  }
 ],
 "metadata": {
  "language_info": {
   "name": "python"
  }
 },
 "nbformat": 4,
 "nbformat_minor": 5
}
