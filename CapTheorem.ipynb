{
 "cells": [
  {
   "cell_type": "markdown",
   "metadata": {},
   "source": [
    "### **CAP Theorem**\n"
   ]
  },
  {
   "cell_type": "markdown",
   "metadata": {},
   "source": [
    "### **Consistency Patterns**  \n",
    "\n",
    "Every read receives the most recent write or an error.  \n",
    "\n",
    "---\n",
    "\n",
    "### **1. Weak Consistency**  \n",
    "After a write, a read **may or may not** see the most recent write.  \n",
    "\n",
    "**Examples:**  \n",
    "- VoIP (Voice over IP)  \n",
    "- Video chat  \n",
    "- Real-time multiplayer games  \n",
    "\n",
    "---\n",
    "\n",
    "### **2. Eventual Consistency**  \n",
    "After a write, a read **will eventually** reflect the latest data (typically within milliseconds). Data is replicated **asynchronously**.  \n",
    "\n",
    "This approach is used in **highly available systems**.  \n",
    "\n",
    "**Examples:**  \n",
    "- DNS (Domain Name System)  \n",
    "- Email services  \n",
    "\n",
    "---\n",
    "\n",
    "### **3. Strong Consistency**  \n",
    "After a write, a read **will always** see the latest data. Data is replicated **synchronously**.  \n",
    "\n",
    "**Examples:**  \n",
    "- File systems  \n",
    "- RDBMS (Relational Database Management Systems)  \n",
    "- Systems dealing with transactions  \n",
    "\n",
    "---"
   ]
  },
  {
   "cell_type": "markdown",
   "metadata": {},
   "source": [
    "### **Availability Patterns**  \n",
    "\n",
    "1. Failover  \n",
    "2. Replication  \n",
    "\n",
    "---\n",
    "\n",
    "### **Failover**  \n",
    "\n",
    "#### **Active-Passive**  \n",
    "With active-passive failover, heartbeats are sent between the active and the passive server on standby. If the heartbeat is interrupted, the passive server takes over the active's IP address and resumes service.  \n",
    "\n",
    "The length of downtime is determined by whether the passive server is already running in **hot standby** or whether it needs to start up from **cold standby**. Only the active server handles traffic.  \n",
    "\n",
    "Active-passive failover can also be referred to as **master-slave failover**.  \n",
    "\n",
    "---\n",
    "\n",
    "#### **Active-Active**  \n",
    "In active-active failover, both servers are managing traffic by spreading the load **between** them.  \n",
    "\n",
    "If the servers are public-facing, the **DNS** would need to know about the public IPs of both servers. If the servers are internal-facing, application logic would need to know about both servers.  \n",
    "\n",
    "Active-active failover can also be referred to as **master-master failover**.  \n",
    "\n",
    "---\n",
    "\n",
    "### **2. Replication**  \n",
    "Discussed in the **Databases** section.  \n",
    "\n",
    "---\n",
    "\n",
    "### **Availability in Numbers**  \n",
    "\n",
    "Availability is often quantified by **uptime (or downtime)** as a percentage of time the service is available. Availability is generally measured in **number of 9s**—a service with **99.99% availability** is described as having **four 9s**.  \n",
    "\n",
    "1. **99.9% Availability** – Three 9s  \n",
    "2. **99.99% Availability** – Four 9s  \n"
   ]
  },
  {
   "cell_type": "markdown",
   "metadata": {},
   "source": [
    "\n",
    "\n"
   ]
  }
 ],
 "metadata": {
  "language_info": {
   "name": "python"
  }
 },
 "nbformat": 4,
 "nbformat_minor": 2
}
