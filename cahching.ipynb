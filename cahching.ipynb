{
 "cells": [
  {
   "cell_type": "markdown",
   "metadata": {},
   "source": [
    "Different Method to update the cache data :-\n",
    "\n",
    "1. Cache-aside  :-    In this method all the read and write operation inside the data base is done through the server . whenever server read the data from the database at that time it also save inside the cache so that at the next time User request is fullfield from the cache .\n",
    "\n",
    "\n",
    "2. Write-through :-  In this method when server write inside the database at that time it also write inside the cache .it increase the write time . but decrease the read latency . this method is useful for the read heavy application . \n",
    "\n",
    "   disadvantage :- In this method we are writing the data inside cache parallel manner . cache may contain the unneccesaly used data .\n",
    "\n",
    "3. Write behind :-  it is the asynchronous method of writing the data inside the database . In this method we just write the data inside the cache . cache will add it inside the queue . one by one all the request is handled . \n",
    "\n",
    "\n",
    "4. Refresh ahead :-   In this method cache always contains the fresh data .  whenever any request is made to the server . it check it inside the cache . if cache contain the recent data it gives the response to the server . otherwise it make request to the data before expira\n",
    "    \n",
    "        "
   ]
  }
 ],
 "metadata": {
  "language_info": {
   "name": "python"
  }
 },
 "nbformat": 4,
 "nbformat_minor": 2
}
