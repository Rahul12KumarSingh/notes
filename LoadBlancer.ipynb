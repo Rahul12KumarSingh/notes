{
 "cells": [
  {
   "cell_type": "markdown",
   "metadata": {},
   "source": [
    "### Load Balancer \n",
    "\n",
    "Loadbalancer distribute the incomming client request to the computing resources such as application server and databases . \n",
    "\n",
    "\n",
    "use case of the loadbalancer :-\n",
    "\n",
    "1. preventing the request from going to the unhealthy server\n",
    "2. preventing overloading resources \n",
    "3. Helping to eliminate a single point of failure \n",
    "\n",
    "\n",
    "\n"
   ]
  }
 ],
 "metadata": {
  "language_info": {
   "name": "python"
  }
 },
 "nbformat": 4,
 "nbformat_minor": 2
}
